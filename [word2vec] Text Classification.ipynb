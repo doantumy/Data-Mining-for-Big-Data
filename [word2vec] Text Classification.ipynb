{
 "cells": [
  {
   "cell_type": "markdown",
   "metadata": {},
   "source": [
    "# Text Classification with `word2vec`\n",
    " \n",
    "#### By: Tu My DOAN & Sali Dauda MOHAMNMED"
   ]
  },
  {
   "cell_type": "markdown",
   "metadata": {},
   "source": [
    "# Libraries"
   ]
  },
  {
   "cell_type": "code",
   "execution_count": 1,
   "metadata": {},
   "outputs": [
    {
     "name": "stderr",
     "output_type": "stream",
     "text": [
      "Using TensorFlow backend.\n"
     ]
    },
    {
     "name": "stdout",
     "output_type": "stream",
     "text": [
      "Keras version: 2.2.4\n",
      "TensorFlow version: 1.10.0\n"
     ]
    }
   ],
   "source": [
    "import pandas as pd\n",
    "import numpy as np\n",
    "import tensorflow as tf\n",
    "import re\n",
    "import matplotlib.pyplot as plt\n",
    "from datetime import datetime\n",
    "import logging\n",
    "from xml.dom import minidom\n",
    "import seaborn as sn\n",
    "from sklearn.model_selection import train_test_split\n",
    "from sklearn.metrics import confusion_matrix\n",
    "import keras\n",
    "from keras import Sequential\n",
    "from keras.layers import Dense, Input, GlobalMaxPooling1D\n",
    "from keras.layers import Conv1D, MaxPooling1D, Embedding, Flatten\n",
    "from keras.models import Sequential,Input,Model, load_model\n",
    "from keras.preprocessing.text import Tokenizer\n",
    "from keras.preprocessing.sequence import pad_sequences\n",
    "print(\"Keras version: {}\".format(keras.__version__))\n",
    "print(\"TensorFlow version: {}\".format(tf.__version__))\n",
    "%matplotlib inline"
   ]
  },
  {
   "cell_type": "markdown",
   "metadata": {},
   "source": [
    "# Data pre-processing"
   ]
  },
  {
   "cell_type": "markdown",
   "metadata": {},
   "source": [
    "### Train data"
   ]
  },
  {
   "cell_type": "code",
   "execution_count": 2,
   "metadata": {},
   "outputs": [
    {
     "data": {
      "text/html": [
       "<div>\n",
       "<style scoped>\n",
       "    .dataframe tbody tr th:only-of-type {\n",
       "        vertical-align: middle;\n",
       "    }\n",
       "\n",
       "    .dataframe tbody tr th {\n",
       "        vertical-align: top;\n",
       "    }\n",
       "\n",
       "    .dataframe thead th {\n",
       "        text-align: right;\n",
       "    }\n",
       "</style>\n",
       "<table border=\"1\" class=\"dataframe\">\n",
       "  <thead>\n",
       "    <tr style=\"text-align: right;\">\n",
       "      <th></th>\n",
       "      <th>id</th>\n",
       "      <th>file</th>\n",
       "      <th>label</th>\n",
       "      <th>content</th>\n",
       "    </tr>\n",
       "  </thead>\n",
       "  <tbody>\n",
       "    <tr>\n",
       "      <th>0</th>\n",
       "      <td>1</td>\n",
       "      <td>1.xml</td>\n",
       "      <td>0</td>\n",
       "      <td>Showers continued throughout the week in\\nthe ...</td>\n",
       "    </tr>\n",
       "    <tr>\n",
       "      <th>1</th>\n",
       "      <td>2</td>\n",
       "      <td>2.xml</td>\n",
       "      <td>0</td>\n",
       "      <td>Standard Oil Co and BP North America\\nInc said...</td>\n",
       "    </tr>\n",
       "    <tr>\n",
       "      <th>2</th>\n",
       "      <td>3</td>\n",
       "      <td>3.xml</td>\n",
       "      <td>0</td>\n",
       "      <td>Texas Commerce Bancshares Inc's Texas\\nCommerc...</td>\n",
       "    </tr>\n",
       "    <tr>\n",
       "      <th>3</th>\n",
       "      <td>4</td>\n",
       "      <td>4.xml</td>\n",
       "      <td>0</td>\n",
       "      <td>BankAmerica Corp is not under\\npressure to act...</td>\n",
       "    </tr>\n",
       "    <tr>\n",
       "      <th>4</th>\n",
       "      <td>5</td>\n",
       "      <td>5.xml</td>\n",
       "      <td>0</td>\n",
       "      <td>The U.S. Agriculture Department\\nreported the ...</td>\n",
       "    </tr>\n",
       "  </tbody>\n",
       "</table>\n",
       "</div>"
      ],
      "text/plain": [
       "   id   file  label                                            content\n",
       "0   1  1.xml      0  Showers continued throughout the week in\\nthe ...\n",
       "1   2  2.xml      0  Standard Oil Co and BP North America\\nInc said...\n",
       "2   3  3.xml      0  Texas Commerce Bancshares Inc's Texas\\nCommerc...\n",
       "3   4  4.xml      0  BankAmerica Corp is not under\\npressure to act...\n",
       "4   5  5.xml      0  The U.S. Agriculture Department\\nreported the ..."
      ]
     },
     "execution_count": 2,
     "metadata": {},
     "output_type": "execute_result"
    }
   ],
   "source": [
    "train = pd.read_csv('news_datafile.csv')\n",
    "train.head()"
   ]
  },
  {
   "cell_type": "code",
   "execution_count": 7,
   "metadata": {},
   "outputs": [
    {
     "data": {
      "text/plain": [
       "0    0\n",
       "1    0\n",
       "2    0\n",
       "3    0\n",
       "4    0\n",
       "Name: label, dtype: int64"
      ]
     },
     "execution_count": 7,
     "metadata": {},
     "output_type": "execute_result"
    }
   ],
   "source": [
    "train.label.head()"
   ]
  },
  {
   "cell_type": "code",
   "execution_count": 8,
   "metadata": {},
   "outputs": [
    {
     "data": {
      "text/plain": [
       "0    Showers continued throughout the week in\\nthe ...\n",
       "1    Standard Oil Co and BP North America\\nInc said...\n",
       "2    Texas Commerce Bancshares Inc's Texas\\nCommerc...\n",
       "3    BankAmerica Corp is not under\\npressure to act...\n",
       "4    The U.S. Agriculture Department\\nreported the ...\n",
       "Name: content, dtype: object"
      ]
     },
     "execution_count": 8,
     "metadata": {},
     "output_type": "execute_result"
    }
   ],
   "source": [
    "train.content.head()"
   ]
  },
  {
   "cell_type": "code",
   "execution_count": 12,
   "metadata": {},
   "outputs": [
    {
     "data": {
      "text/html": [
       "<div>\n",
       "<style scoped>\n",
       "    .dataframe tbody tr th:only-of-type {\n",
       "        vertical-align: middle;\n",
       "    }\n",
       "\n",
       "    .dataframe tbody tr th {\n",
       "        vertical-align: top;\n",
       "    }\n",
       "\n",
       "    .dataframe thead th {\n",
       "        text-align: right;\n",
       "    }\n",
       "</style>\n",
       "<table border=\"1\" class=\"dataframe\">\n",
       "  <thead>\n",
       "    <tr style=\"text-align: right;\">\n",
       "      <th></th>\n",
       "      <th>id</th>\n",
       "      <th>label</th>\n",
       "    </tr>\n",
       "  </thead>\n",
       "  <tbody>\n",
       "    <tr>\n",
       "      <th>count</th>\n",
       "      <td>4800.000000</td>\n",
       "      <td>4800.000000</td>\n",
       "    </tr>\n",
       "    <tr>\n",
       "      <th>mean</th>\n",
       "      <td>2503.911250</td>\n",
       "      <td>0.203125</td>\n",
       "    </tr>\n",
       "    <tr>\n",
       "      <th>std</th>\n",
       "      <td>1446.821421</td>\n",
       "      <td>0.402367</td>\n",
       "    </tr>\n",
       "    <tr>\n",
       "      <th>min</th>\n",
       "      <td>1.000000</td>\n",
       "      <td>0.000000</td>\n",
       "    </tr>\n",
       "    <tr>\n",
       "      <th>25%</th>\n",
       "      <td>1247.500000</td>\n",
       "      <td>0.000000</td>\n",
       "    </tr>\n",
       "    <tr>\n",
       "      <th>50%</th>\n",
       "      <td>2508.500000</td>\n",
       "      <td>0.000000</td>\n",
       "    </tr>\n",
       "    <tr>\n",
       "      <th>75%</th>\n",
       "      <td>3759.250000</td>\n",
       "      <td>0.000000</td>\n",
       "    </tr>\n",
       "    <tr>\n",
       "      <th>max</th>\n",
       "      <td>5000.000000</td>\n",
       "      <td>1.000000</td>\n",
       "    </tr>\n",
       "  </tbody>\n",
       "</table>\n",
       "</div>"
      ],
      "text/plain": [
       "                id        label\n",
       "count  4800.000000  4800.000000\n",
       "mean   2503.911250     0.203125\n",
       "std    1446.821421     0.402367\n",
       "min       1.000000     0.000000\n",
       "25%    1247.500000     0.000000\n",
       "50%    2508.500000     0.000000\n",
       "75%    3759.250000     0.000000\n",
       "max    5000.000000     1.000000"
      ]
     },
     "execution_count": 12,
     "metadata": {},
     "output_type": "execute_result"
    }
   ],
   "source": [
    "train.describe()"
   ]
  },
  {
   "cell_type": "code",
   "execution_count": 3,
   "metadata": {},
   "outputs": [
    {
     "data": {
      "text/plain": [
       "0    3825\n",
       "1     975\n",
       "Name: label, dtype: int64"
      ]
     },
     "execution_count": 3,
     "metadata": {},
     "output_type": "execute_result"
    }
   ],
   "source": [
    "train['label'].value_counts(dropna=False)"
   ]
  },
  {
   "cell_type": "code",
   "execution_count": 11,
   "metadata": {
    "scrolled": true
   },
   "outputs": [
    {
     "data": {
      "text/html": [
       "<div>\n",
       "<style scoped>\n",
       "    .dataframe tbody tr th:only-of-type {\n",
       "        vertical-align: middle;\n",
       "    }\n",
       "\n",
       "    .dataframe tbody tr th {\n",
       "        vertical-align: top;\n",
       "    }\n",
       "\n",
       "    .dataframe thead th {\n",
       "        text-align: right;\n",
       "    }\n",
       "</style>\n",
       "<table border=\"1\" class=\"dataframe\">\n",
       "  <thead>\n",
       "    <tr style=\"text-align: right;\">\n",
       "      <th></th>\n",
       "      <th>id</th>\n",
       "      <th>file</th>\n",
       "      <th>label</th>\n",
       "      <th>content</th>\n",
       "    </tr>\n",
       "  </thead>\n",
       "  <tbody>\n",
       "    <tr>\n",
       "      <th>28</th>\n",
       "      <td>30</td>\n",
       "      <td>30.xml</td>\n",
       "      <td>0</td>\n",
       "      <td>NaN</td>\n",
       "    </tr>\n",
       "    <tr>\n",
       "      <th>29</th>\n",
       "      <td>31</td>\n",
       "      <td>31.xml</td>\n",
       "      <td>0</td>\n",
       "      <td>NaN</td>\n",
       "    </tr>\n",
       "    <tr>\n",
       "      <th>71</th>\n",
       "      <td>76</td>\n",
       "      <td>76.xml</td>\n",
       "      <td>0</td>\n",
       "      <td>NaN</td>\n",
       "    </tr>\n",
       "    <tr>\n",
       "      <th>72</th>\n",
       "      <td>77</td>\n",
       "      <td>77.xml</td>\n",
       "      <td>0</td>\n",
       "      <td>NaN</td>\n",
       "    </tr>\n",
       "    <tr>\n",
       "      <th>73</th>\n",
       "      <td>78</td>\n",
       "      <td>78.xml</td>\n",
       "      <td>0</td>\n",
       "      <td>NaN</td>\n",
       "    </tr>\n",
       "    <tr>\n",
       "      <th>86</th>\n",
       "      <td>92</td>\n",
       "      <td>92.xml</td>\n",
       "      <td>0</td>\n",
       "      <td>NaN</td>\n",
       "    </tr>\n",
       "    <tr>\n",
       "      <th>88</th>\n",
       "      <td>94</td>\n",
       "      <td>94.xml</td>\n",
       "      <td>0</td>\n",
       "      <td>NaN</td>\n",
       "    </tr>\n",
       "    <tr>\n",
       "      <th>89</th>\n",
       "      <td>95</td>\n",
       "      <td>95.xml</td>\n",
       "      <td>0</td>\n",
       "      <td>NaN</td>\n",
       "    </tr>\n",
       "    <tr>\n",
       "      <th>92</th>\n",
       "      <td>99</td>\n",
       "      <td>99.xml</td>\n",
       "      <td>0</td>\n",
       "      <td>NaN</td>\n",
       "    </tr>\n",
       "    <tr>\n",
       "      <th>94</th>\n",
       "      <td>101</td>\n",
       "      <td>101.xml</td>\n",
       "      <td>0</td>\n",
       "      <td>NaN</td>\n",
       "    </tr>\n",
       "    <tr>\n",
       "      <th>95</th>\n",
       "      <td>102</td>\n",
       "      <td>102.xml</td>\n",
       "      <td>0</td>\n",
       "      <td>NaN</td>\n",
       "    </tr>\n",
       "    <tr>\n",
       "      <th>96</th>\n",
       "      <td>103</td>\n",
       "      <td>103.xml</td>\n",
       "      <td>0</td>\n",
       "      <td>NaN</td>\n",
       "    </tr>\n",
       "    <tr>\n",
       "      <th>121</th>\n",
       "      <td>129</td>\n",
       "      <td>129.xml</td>\n",
       "      <td>1</td>\n",
       "      <td>NaN</td>\n",
       "    </tr>\n",
       "    <tr>\n",
       "      <th>124</th>\n",
       "      <td>132</td>\n",
       "      <td>132.xml</td>\n",
       "      <td>0</td>\n",
       "      <td>NaN</td>\n",
       "    </tr>\n",
       "    <tr>\n",
       "      <th>125</th>\n",
       "      <td>133</td>\n",
       "      <td>133.xml</td>\n",
       "      <td>0</td>\n",
       "      <td>NaN</td>\n",
       "    </tr>\n",
       "    <tr>\n",
       "      <th>162</th>\n",
       "      <td>171</td>\n",
       "      <td>171.xml</td>\n",
       "      <td>0</td>\n",
       "      <td>NaN</td>\n",
       "    </tr>\n",
       "    <tr>\n",
       "      <th>180</th>\n",
       "      <td>189</td>\n",
       "      <td>189.xml</td>\n",
       "      <td>0</td>\n",
       "      <td>NaN</td>\n",
       "    </tr>\n",
       "    <tr>\n",
       "      <th>204</th>\n",
       "      <td>216</td>\n",
       "      <td>216.xml</td>\n",
       "      <td>0</td>\n",
       "      <td>NaN</td>\n",
       "    </tr>\n",
       "    <tr>\n",
       "      <th>248</th>\n",
       "      <td>261</td>\n",
       "      <td>261.xml</td>\n",
       "      <td>0</td>\n",
       "      <td>NaN</td>\n",
       "    </tr>\n",
       "    <tr>\n",
       "      <th>270</th>\n",
       "      <td>283</td>\n",
       "      <td>283.xml</td>\n",
       "      <td>0</td>\n",
       "      <td>NaN</td>\n",
       "    </tr>\n",
       "    <tr>\n",
       "      <th>285</th>\n",
       "      <td>298</td>\n",
       "      <td>298.xml</td>\n",
       "      <td>0</td>\n",
       "      <td>NaN</td>\n",
       "    </tr>\n",
       "    <tr>\n",
       "      <th>369</th>\n",
       "      <td>383</td>\n",
       "      <td>383.xml</td>\n",
       "      <td>0</td>\n",
       "      <td>NaN</td>\n",
       "    </tr>\n",
       "    <tr>\n",
       "      <th>378</th>\n",
       "      <td>392</td>\n",
       "      <td>392.xml</td>\n",
       "      <td>1</td>\n",
       "      <td>NaN</td>\n",
       "    </tr>\n",
       "    <tr>\n",
       "      <th>382</th>\n",
       "      <td>396</td>\n",
       "      <td>396.xml</td>\n",
       "      <td>1</td>\n",
       "      <td>NaN</td>\n",
       "    </tr>\n",
       "    <tr>\n",
       "      <th>383</th>\n",
       "      <td>398</td>\n",
       "      <td>398.xml</td>\n",
       "      <td>0</td>\n",
       "      <td>NaN</td>\n",
       "    </tr>\n",
       "    <tr>\n",
       "      <th>385</th>\n",
       "      <td>400</td>\n",
       "      <td>400.xml</td>\n",
       "      <td>0</td>\n",
       "      <td>NaN</td>\n",
       "    </tr>\n",
       "    <tr>\n",
       "      <th>401</th>\n",
       "      <td>417</td>\n",
       "      <td>417.xml</td>\n",
       "      <td>0</td>\n",
       "      <td>NaN</td>\n",
       "    </tr>\n",
       "    <tr>\n",
       "      <th>402</th>\n",
       "      <td>418</td>\n",
       "      <td>418.xml</td>\n",
       "      <td>0</td>\n",
       "      <td>NaN</td>\n",
       "    </tr>\n",
       "    <tr>\n",
       "      <th>414</th>\n",
       "      <td>430</td>\n",
       "      <td>430.xml</td>\n",
       "      <td>0</td>\n",
       "      <td>NaN</td>\n",
       "    </tr>\n",
       "    <tr>\n",
       "      <th>415</th>\n",
       "      <td>431</td>\n",
       "      <td>431.xml</td>\n",
       "      <td>0</td>\n",
       "      <td>NaN</td>\n",
       "    </tr>\n",
       "    <tr>\n",
       "      <th>...</th>\n",
       "      <td>...</td>\n",
       "      <td>...</td>\n",
       "      <td>...</td>\n",
       "      <td>...</td>\n",
       "    </tr>\n",
       "    <tr>\n",
       "      <th>4565</th>\n",
       "      <td>4762</td>\n",
       "      <td>4762.xml</td>\n",
       "      <td>0</td>\n",
       "      <td>NaN</td>\n",
       "    </tr>\n",
       "    <tr>\n",
       "      <th>4566</th>\n",
       "      <td>4763</td>\n",
       "      <td>4763.xml</td>\n",
       "      <td>0</td>\n",
       "      <td>NaN</td>\n",
       "    </tr>\n",
       "    <tr>\n",
       "      <th>4573</th>\n",
       "      <td>4770</td>\n",
       "      <td>4770.xml</td>\n",
       "      <td>0</td>\n",
       "      <td>NaN</td>\n",
       "    </tr>\n",
       "    <tr>\n",
       "      <th>4585</th>\n",
       "      <td>4782</td>\n",
       "      <td>4782.xml</td>\n",
       "      <td>1</td>\n",
       "      <td>NaN</td>\n",
       "    </tr>\n",
       "    <tr>\n",
       "      <th>4589</th>\n",
       "      <td>4786</td>\n",
       "      <td>4786.xml</td>\n",
       "      <td>0</td>\n",
       "      <td>NaN</td>\n",
       "    </tr>\n",
       "    <tr>\n",
       "      <th>4602</th>\n",
       "      <td>4799</td>\n",
       "      <td>4799.xml</td>\n",
       "      <td>0</td>\n",
       "      <td>NaN</td>\n",
       "    </tr>\n",
       "    <tr>\n",
       "      <th>4611</th>\n",
       "      <td>4808</td>\n",
       "      <td>4808.xml</td>\n",
       "      <td>0</td>\n",
       "      <td>NaN</td>\n",
       "    </tr>\n",
       "    <tr>\n",
       "      <th>4630</th>\n",
       "      <td>4828</td>\n",
       "      <td>4828.xml</td>\n",
       "      <td>0</td>\n",
       "      <td>NaN</td>\n",
       "    </tr>\n",
       "    <tr>\n",
       "      <th>4633</th>\n",
       "      <td>4831</td>\n",
       "      <td>4831.xml</td>\n",
       "      <td>0</td>\n",
       "      <td>NaN</td>\n",
       "    </tr>\n",
       "    <tr>\n",
       "      <th>4634</th>\n",
       "      <td>4832</td>\n",
       "      <td>4832.xml</td>\n",
       "      <td>0</td>\n",
       "      <td>NaN</td>\n",
       "    </tr>\n",
       "    <tr>\n",
       "      <th>4638</th>\n",
       "      <td>4836</td>\n",
       "      <td>4836.xml</td>\n",
       "      <td>0</td>\n",
       "      <td>NaN</td>\n",
       "    </tr>\n",
       "    <tr>\n",
       "      <th>4642</th>\n",
       "      <td>4840</td>\n",
       "      <td>4840.xml</td>\n",
       "      <td>0</td>\n",
       "      <td>NaN</td>\n",
       "    </tr>\n",
       "    <tr>\n",
       "      <th>4645</th>\n",
       "      <td>4843</td>\n",
       "      <td>4843.xml</td>\n",
       "      <td>1</td>\n",
       "      <td>NaN</td>\n",
       "    </tr>\n",
       "    <tr>\n",
       "      <th>4661</th>\n",
       "      <td>4859</td>\n",
       "      <td>4859.xml</td>\n",
       "      <td>0</td>\n",
       "      <td>NaN</td>\n",
       "    </tr>\n",
       "    <tr>\n",
       "      <th>4664</th>\n",
       "      <td>4862</td>\n",
       "      <td>4862.xml</td>\n",
       "      <td>0</td>\n",
       "      <td>NaN</td>\n",
       "    </tr>\n",
       "    <tr>\n",
       "      <th>4667</th>\n",
       "      <td>4865</td>\n",
       "      <td>4865.xml</td>\n",
       "      <td>0</td>\n",
       "      <td>NaN</td>\n",
       "    </tr>\n",
       "    <tr>\n",
       "      <th>4681</th>\n",
       "      <td>4880</td>\n",
       "      <td>4880.xml</td>\n",
       "      <td>0</td>\n",
       "      <td>NaN</td>\n",
       "    </tr>\n",
       "    <tr>\n",
       "      <th>4690</th>\n",
       "      <td>4889</td>\n",
       "      <td>4889.xml</td>\n",
       "      <td>0</td>\n",
       "      <td>NaN</td>\n",
       "    </tr>\n",
       "    <tr>\n",
       "      <th>4705</th>\n",
       "      <td>4904</td>\n",
       "      <td>4904.xml</td>\n",
       "      <td>0</td>\n",
       "      <td>NaN</td>\n",
       "    </tr>\n",
       "    <tr>\n",
       "      <th>4714</th>\n",
       "      <td>4913</td>\n",
       "      <td>4913.xml</td>\n",
       "      <td>0</td>\n",
       "      <td>NaN</td>\n",
       "    </tr>\n",
       "    <tr>\n",
       "      <th>4725</th>\n",
       "      <td>4924</td>\n",
       "      <td>4924.xml</td>\n",
       "      <td>0</td>\n",
       "      <td>NaN</td>\n",
       "    </tr>\n",
       "    <tr>\n",
       "      <th>4726</th>\n",
       "      <td>4925</td>\n",
       "      <td>4925.xml</td>\n",
       "      <td>0</td>\n",
       "      <td>NaN</td>\n",
       "    </tr>\n",
       "    <tr>\n",
       "      <th>4729</th>\n",
       "      <td>4928</td>\n",
       "      <td>4928.xml</td>\n",
       "      <td>0</td>\n",
       "      <td>NaN</td>\n",
       "    </tr>\n",
       "    <tr>\n",
       "      <th>4730</th>\n",
       "      <td>4929</td>\n",
       "      <td>4929.xml</td>\n",
       "      <td>0</td>\n",
       "      <td>NaN</td>\n",
       "    </tr>\n",
       "    <tr>\n",
       "      <th>4749</th>\n",
       "      <td>4949</td>\n",
       "      <td>4949.xml</td>\n",
       "      <td>0</td>\n",
       "      <td>NaN</td>\n",
       "    </tr>\n",
       "    <tr>\n",
       "      <th>4750</th>\n",
       "      <td>4950</td>\n",
       "      <td>4950.xml</td>\n",
       "      <td>0</td>\n",
       "      <td>NaN</td>\n",
       "    </tr>\n",
       "    <tr>\n",
       "      <th>4759</th>\n",
       "      <td>4959</td>\n",
       "      <td>4959.xml</td>\n",
       "      <td>0</td>\n",
       "      <td>NaN</td>\n",
       "    </tr>\n",
       "    <tr>\n",
       "      <th>4760</th>\n",
       "      <td>4961</td>\n",
       "      <td>4961.xml</td>\n",
       "      <td>0</td>\n",
       "      <td>NaN</td>\n",
       "    </tr>\n",
       "    <tr>\n",
       "      <th>4776</th>\n",
       "      <td>4977</td>\n",
       "      <td>4977.xml</td>\n",
       "      <td>0</td>\n",
       "      <td>NaN</td>\n",
       "    </tr>\n",
       "    <tr>\n",
       "      <th>4799</th>\n",
       "      <td>5000</td>\n",
       "      <td>5000.xml</td>\n",
       "      <td>0</td>\n",
       "      <td>NaN</td>\n",
       "    </tr>\n",
       "  </tbody>\n",
       "</table>\n",
       "<p>398 rows × 4 columns</p>\n",
       "</div>"
      ],
      "text/plain": [
       "        id      file  label content\n",
       "28      30    30.xml      0     NaN\n",
       "29      31    31.xml      0     NaN\n",
       "71      76    76.xml      0     NaN\n",
       "72      77    77.xml      0     NaN\n",
       "73      78    78.xml      0     NaN\n",
       "86      92    92.xml      0     NaN\n",
       "88      94    94.xml      0     NaN\n",
       "89      95    95.xml      0     NaN\n",
       "92      99    99.xml      0     NaN\n",
       "94     101   101.xml      0     NaN\n",
       "95     102   102.xml      0     NaN\n",
       "96     103   103.xml      0     NaN\n",
       "121    129   129.xml      1     NaN\n",
       "124    132   132.xml      0     NaN\n",
       "125    133   133.xml      0     NaN\n",
       "162    171   171.xml      0     NaN\n",
       "180    189   189.xml      0     NaN\n",
       "204    216   216.xml      0     NaN\n",
       "248    261   261.xml      0     NaN\n",
       "270    283   283.xml      0     NaN\n",
       "285    298   298.xml      0     NaN\n",
       "369    383   383.xml      0     NaN\n",
       "378    392   392.xml      1     NaN\n",
       "382    396   396.xml      1     NaN\n",
       "383    398   398.xml      0     NaN\n",
       "385    400   400.xml      0     NaN\n",
       "401    417   417.xml      0     NaN\n",
       "402    418   418.xml      0     NaN\n",
       "414    430   430.xml      0     NaN\n",
       "415    431   431.xml      0     NaN\n",
       "...    ...       ...    ...     ...\n",
       "4565  4762  4762.xml      0     NaN\n",
       "4566  4763  4763.xml      0     NaN\n",
       "4573  4770  4770.xml      0     NaN\n",
       "4585  4782  4782.xml      1     NaN\n",
       "4589  4786  4786.xml      0     NaN\n",
       "4602  4799  4799.xml      0     NaN\n",
       "4611  4808  4808.xml      0     NaN\n",
       "4630  4828  4828.xml      0     NaN\n",
       "4633  4831  4831.xml      0     NaN\n",
       "4634  4832  4832.xml      0     NaN\n",
       "4638  4836  4836.xml      0     NaN\n",
       "4642  4840  4840.xml      0     NaN\n",
       "4645  4843  4843.xml      1     NaN\n",
       "4661  4859  4859.xml      0     NaN\n",
       "4664  4862  4862.xml      0     NaN\n",
       "4667  4865  4865.xml      0     NaN\n",
       "4681  4880  4880.xml      0     NaN\n",
       "4690  4889  4889.xml      0     NaN\n",
       "4705  4904  4904.xml      0     NaN\n",
       "4714  4913  4913.xml      0     NaN\n",
       "4725  4924  4924.xml      0     NaN\n",
       "4726  4925  4925.xml      0     NaN\n",
       "4729  4928  4928.xml      0     NaN\n",
       "4730  4929  4929.xml      0     NaN\n",
       "4749  4949  4949.xml      0     NaN\n",
       "4750  4950  4950.xml      0     NaN\n",
       "4759  4959  4959.xml      0     NaN\n",
       "4760  4961  4961.xml      0     NaN\n",
       "4776  4977  4977.xml      0     NaN\n",
       "4799  5000  5000.xml      0     NaN\n",
       "\n",
       "[398 rows x 4 columns]"
      ]
     },
     "execution_count": 11,
     "metadata": {},
     "output_type": "execute_result"
    }
   ],
   "source": [
    "train[train['content'].isnull()]"
   ]
  },
  {
   "cell_type": "code",
   "execution_count": 4,
   "metadata": {},
   "outputs": [],
   "source": [
    "train_new = train.dropna()"
   ]
  },
  {
   "cell_type": "code",
   "execution_count": 14,
   "metadata": {},
   "outputs": [
    {
     "data": {
      "text/html": [
       "<div>\n",
       "<style scoped>\n",
       "    .dataframe tbody tr th:only-of-type {\n",
       "        vertical-align: middle;\n",
       "    }\n",
       "\n",
       "    .dataframe tbody tr th {\n",
       "        vertical-align: top;\n",
       "    }\n",
       "\n",
       "    .dataframe thead th {\n",
       "        text-align: right;\n",
       "    }\n",
       "</style>\n",
       "<table border=\"1\" class=\"dataframe\">\n",
       "  <thead>\n",
       "    <tr style=\"text-align: right;\">\n",
       "      <th></th>\n",
       "      <th>id</th>\n",
       "      <th>label</th>\n",
       "    </tr>\n",
       "  </thead>\n",
       "  <tbody>\n",
       "    <tr>\n",
       "      <th>count</th>\n",
       "      <td>4402.000000</td>\n",
       "      <td>4402.000000</td>\n",
       "    </tr>\n",
       "    <tr>\n",
       "      <th>mean</th>\n",
       "      <td>2491.386870</td>\n",
       "      <td>0.209905</td>\n",
       "    </tr>\n",
       "    <tr>\n",
       "      <th>std</th>\n",
       "      <td>1442.479033</td>\n",
       "      <td>0.407287</td>\n",
       "    </tr>\n",
       "    <tr>\n",
       "      <th>min</th>\n",
       "      <td>1.000000</td>\n",
       "      <td>0.000000</td>\n",
       "    </tr>\n",
       "    <tr>\n",
       "      <th>25%</th>\n",
       "      <td>1237.250000</td>\n",
       "      <td>0.000000</td>\n",
       "    </tr>\n",
       "    <tr>\n",
       "      <th>50%</th>\n",
       "      <td>2501.500000</td>\n",
       "      <td>0.000000</td>\n",
       "    </tr>\n",
       "    <tr>\n",
       "      <th>75%</th>\n",
       "      <td>3744.750000</td>\n",
       "      <td>0.000000</td>\n",
       "    </tr>\n",
       "    <tr>\n",
       "      <th>max</th>\n",
       "      <td>4999.000000</td>\n",
       "      <td>1.000000</td>\n",
       "    </tr>\n",
       "  </tbody>\n",
       "</table>\n",
       "</div>"
      ],
      "text/plain": [
       "                id        label\n",
       "count  4402.000000  4402.000000\n",
       "mean   2491.386870     0.209905\n",
       "std    1442.479033     0.407287\n",
       "min       1.000000     0.000000\n",
       "25%    1237.250000     0.000000\n",
       "50%    2501.500000     0.000000\n",
       "75%    3744.750000     0.000000\n",
       "max    4999.000000     1.000000"
      ]
     },
     "execution_count": 14,
     "metadata": {},
     "output_type": "execute_result"
    }
   ],
   "source": [
    "train_new.describe()"
   ]
  },
  {
   "cell_type": "code",
   "execution_count": 5,
   "metadata": {},
   "outputs": [
    {
     "data": {
      "text/plain": [
       "0    3478\n",
       "1     924\n",
       "Name: label, dtype: int64"
      ]
     },
     "execution_count": 5,
     "metadata": {},
     "output_type": "execute_result"
    }
   ],
   "source": [
    "train_new['label'].value_counts()"
   ]
  },
  {
   "cell_type": "markdown",
   "metadata": {},
   "source": [
    "### Test data"
   ]
  },
  {
   "cell_type": "code",
   "execution_count": 6,
   "metadata": {},
   "outputs": [
    {
     "data": {
      "text/html": [
       "<div>\n",
       "<style scoped>\n",
       "    .dataframe tbody tr th:only-of-type {\n",
       "        vertical-align: middle;\n",
       "    }\n",
       "\n",
       "    .dataframe tbody tr th {\n",
       "        vertical-align: top;\n",
       "    }\n",
       "\n",
       "    .dataframe thead th {\n",
       "        text-align: right;\n",
       "    }\n",
       "</style>\n",
       "<table border=\"1\" class=\"dataframe\">\n",
       "  <thead>\n",
       "    <tr style=\"text-align: right;\">\n",
       "      <th></th>\n",
       "      <th>id</th>\n",
       "      <th>file</th>\n",
       "      <th>earnings: 0 no/ 1 yes</th>\n",
       "    </tr>\n",
       "  </thead>\n",
       "  <tbody>\n",
       "    <tr>\n",
       "      <th>0</th>\n",
       "      <td>20</td>\n",
       "      <td>20.xml</td>\n",
       "      <td>NaN</td>\n",
       "    </tr>\n",
       "    <tr>\n",
       "      <th>1</th>\n",
       "      <td>47</td>\n",
       "      <td>47.xml</td>\n",
       "      <td>NaN</td>\n",
       "    </tr>\n",
       "    <tr>\n",
       "      <th>2</th>\n",
       "      <td>57</td>\n",
       "      <td>57.xml</td>\n",
       "      <td>NaN</td>\n",
       "    </tr>\n",
       "    <tr>\n",
       "      <th>3</th>\n",
       "      <td>66</td>\n",
       "      <td>66.xml</td>\n",
       "      <td>NaN</td>\n",
       "    </tr>\n",
       "    <tr>\n",
       "      <th>4</th>\n",
       "      <td>88</td>\n",
       "      <td>88.xml</td>\n",
       "      <td>NaN</td>\n",
       "    </tr>\n",
       "  </tbody>\n",
       "</table>\n",
       "</div>"
      ],
      "text/plain": [
       "   id    file  earnings: 0 no/ 1 yes\n",
       "0  20  20.xml                    NaN\n",
       "1  47  47.xml                    NaN\n",
       "2  57  57.xml                    NaN\n",
       "3  66  66.xml                    NaN\n",
       "4  88  88.xml                    NaN"
      ]
     },
     "execution_count": 6,
     "metadata": {},
     "output_type": "execute_result"
    }
   ],
   "source": [
    "df_test = pd.read_csv(\"./dmdata/test.csv\")\n",
    "df_test.head()"
   ]
  },
  {
   "cell_type": "code",
   "execution_count": 7,
   "metadata": {},
   "outputs": [
    {
     "data": {
      "text/html": [
       "<div>\n",
       "<style scoped>\n",
       "    .dataframe tbody tr th:only-of-type {\n",
       "        vertical-align: middle;\n",
       "    }\n",
       "\n",
       "    .dataframe tbody tr th {\n",
       "        vertical-align: top;\n",
       "    }\n",
       "\n",
       "    .dataframe thead th {\n",
       "        text-align: right;\n",
       "    }\n",
       "</style>\n",
       "<table border=\"1\" class=\"dataframe\">\n",
       "  <thead>\n",
       "    <tr style=\"text-align: right;\">\n",
       "      <th></th>\n",
       "      <th>content</th>\n",
       "      <th>file</th>\n",
       "    </tr>\n",
       "  </thead>\n",
       "  <tbody>\n",
       "    <tr>\n",
       "      <th>0</th>\n",
       "      <td>Legislation to require disclosure of\\ncredit c...</td>\n",
       "      <td>20.xml</td>\n",
       "    </tr>\n",
       "    <tr>\n",
       "      <th>1</th>\n",
       "      <td>inflation\\nplan, initially hailed at home and ...</td>\n",
       "      <td>47.xml</td>\n",
       "    </tr>\n",
       "    <tr>\n",
       "      <th>2</th>\n",
       "      <td>The Commodity Credit Corporation (CCC)\\nannoun...</td>\n",
       "      <td>57.xml</td>\n",
       "    </tr>\n",
       "    <tr>\n",
       "      <th>3</th>\n",
       "      <td>Shr 27 cts vs 29 cts\\n    Net 13,555,000 vs 14...</td>\n",
       "      <td>66.xml</td>\n",
       "    </tr>\n",
       "    <tr>\n",
       "      <th>4</th>\n",
       "      <td>Sorg Inc said a group composed of\\none-third o...</td>\n",
       "      <td>88.xml</td>\n",
       "    </tr>\n",
       "  </tbody>\n",
       "</table>\n",
       "</div>"
      ],
      "text/plain": [
       "                                             content    file\n",
       "0  Legislation to require disclosure of\\ncredit c...  20.xml\n",
       "1  inflation\\nplan, initially hailed at home and ...  47.xml\n",
       "2  The Commodity Credit Corporation (CCC)\\nannoun...  57.xml\n",
       "3  Shr 27 cts vs 29 cts\\n    Net 13,555,000 vs 14...  66.xml\n",
       "4  Sorg Inc said a group composed of\\none-third o...  88.xml"
      ]
     },
     "execution_count": 7,
     "metadata": {},
     "output_type": "execute_result"
    }
   ],
   "source": [
    "def read_xml(xml_list):\n",
    "    empty_content = []\n",
    "    df = pd.DataFrame(columns=['content','file'])\n",
    "    for file_name in xml_list:\n",
    "        mydoc = minidom.parse(\"./dmdata/\"+file_name)\n",
    "        items = mydoc.getElementsByTagName('BODY')\n",
    "        if items[0].firstChild != None:\n",
    "            content = items[0].firstChild.data\n",
    "            df = df.append({'content':content, 'file':file_name},ignore_index=True)\n",
    "        else: \n",
    "            empty_content.append(str(file_name))\n",
    "            df = df.append({'content':\"\", 'file':file_name},ignore_index=True)\n",
    "    return df, empty_content\n",
    "empty_content_lst = []\n",
    "df_xml, empty_content_lst = read_xml(df_test.file.values)\n",
    "df_xml.head()"
   ]
  },
  {
   "cell_type": "code",
   "execution_count": 9,
   "metadata": {},
   "outputs": [
    {
     "data": {
      "text/plain": [
       "(18,\n",
       " ['689.xml',\n",
       "  '934.xml',\n",
       "  '1247.xml',\n",
       "  '1548.xml',\n",
       "  '1717.xml',\n",
       "  '2103.xml',\n",
       "  '2169.xml',\n",
       "  '2178.xml',\n",
       "  '2244.xml',\n",
       "  '2302.xml',\n",
       "  '2442.xml',\n",
       "  '2621.xml',\n",
       "  '2698.xml',\n",
       "  '3305.xml',\n",
       "  '3678.xml',\n",
       "  '3766.xml',\n",
       "  '4565.xml',\n",
       "  '4960.xml'])"
      ]
     },
     "execution_count": 9,
     "metadata": {},
     "output_type": "execute_result"
    }
   ],
   "source": [
    "len(empty_content_lst),empty_content_lst"
   ]
  },
  {
   "cell_type": "code",
   "execution_count": 373,
   "metadata": {
    "scrolled": true
   },
   "outputs": [
    {
     "data": {
      "text/plain": [
       "<bound method NDFrame.describe of                                                content      file\n",
       "0    Legislation to require disclosure of\\ncredit c...    20.xml\n",
       "1    inflation\\nplan, initially hailed at home and ...    47.xml\n",
       "2    The Commodity Credit Corporation (CCC)\\nannoun...    57.xml\n",
       "3    Shr 27 cts vs 29 cts\\n    Net 13,555,000 vs 14...    66.xml\n",
       "4    Sorg Inc said a group composed of\\none-third o...    88.xml\n",
       "5    The Agricultural Stabilization and\\nConservati...    97.xml\n",
       "6    Diamond Shamrock Corp said that\\neffective tod...   127.xml\n",
       "7    Qtly div 51 cts vs 51 cts\\n    Pay April 9\\n  ...   165.xml\n",
       "8    The U.S. Agriculture Department\\nprobably will...   193.xml\n",
       "9    Circuit Systems Inc said it has\\nbought all of...   199.xml\n",
       "10   Microsoft Corp said it obtained a\\nfederal cou...   215.xml\n",
       "11   The Philippines will offer its commercial\\nban...   240.xml\n",
       "12   Soybean imports are forecast to rise to\\n425,0...   303.xml\n",
       "13   </BODY>The Writers Guild of America said its\\n...   397.xml\n",
       "14   Shr loss 11 cts\\n    Loss 739,146\\n    Revs 11...   410.xml\n",
       "15   Prime Computer Inc said it has\\nintroduced the...   463.xml\n",
       "16   Shr loss 20 cts vs profit 96 cts\\n    Net loss...   484.xml\n",
       "17   Cronus Industries Inc said it agreed to\\nsell ...   553.xml\n",
       "18   Qtly div six cts vs five cts\\n    Net 188,000 ...   573.xml\n",
       "19   Franklin Resources Inc said it\\nformed three m...   574.xml\n",
       "20   Epitope Inc said its board of\\ndirectors has a...   599.xml\n",
       "21   Thousands of Spanish farmers battled\\npolice i...   622.xml\n",
       "22   Oper shr eight cts vs five cts\\n    Oper net 1...   640.xml\n",
       "23                                                       689.xml\n",
       "24   Currency fluctuations may reassert their\\ninfl...   697.xml\n",
       "25   Brazilian Finance Minister Dilson Funaro\\nflat...   740.xml\n",
       "26   Daisy Systems Corp said it\\nhas introduced a l...   746.xml\n",
       "27   </BODY>General Motors Corp said its February\\n...   832.xml\n",
       "28   A special meeting of the International\\nCoffee...   842.xml\n",
       "29   The Malaysian government said it\\nhas re-impos...   884.xml\n",
       "..                                                 ...       ...\n",
       "170  Great Universal Stores Plc <GUS.L> said\\nit ha...  4107.xml\n",
       "171  Taft Broadcasting Co vice chairman\\nDudley Taf...  4153.xml\n",
       "172  Prime Minister Brian Mulroney said he\\nheld \"f...  4156.xml\n",
       "173  Feb 28 end\\n    Shr five cts vs one ct\\n    Ne...  4169.xml\n",
       "174  <Consolidated Five Star\\nResources Ltd> said i...  4187.xml\n",
       "175  PerfectData Corp said it\\nagreed to license ce...  4234.xml\n",
       "176  British Telecommunications Plc's <BTY.L>\\nprof...  4266.xml\n",
       "177  Philadelphia Electric Co said it filed\\nwith t...  4272.xml\n",
       "178  4th qtr\\n    Shr nine cts vs four cts\\n    Net...  4292.xml\n",
       "179  ProtocomDevices Inc said it has seen\\nmore ero...  4347.xml\n",
       "180  Biomet Inc said its revenues for the\\nthird qu...  4355.xml\n",
       "181  Synercom Technology Inc said\\nshareholders at ...  4359.xml\n",
       "182  Solv-Ex Corp said it\\nsuccessfully completed i...  4365.xml\n",
       "183  Varian Associates Inc said it\\nreceived a 19 m...  4377.xml\n",
       "184  Automobile production by U.S.\\nmanufacturers t...  4381.xml\n",
       "185  Federal Reserve Board Chairman Paul\\nVolcker s...  4513.xml\n",
       "186  A U.S. judge today dismissed\\na lawsuit by fir...  4545.xml\n",
       "187                                                     4565.xml\n",
       "188  <Counsel Corp> said it plans a\\nthree-for-two ...  4583.xml\n",
       "189  Venezuela will lend Ecuador 50,000\\nbarrels pe...  4609.xml\n",
       "190  West German wholesale prices fell 0.4\\npct in ...  4634.xml\n",
       "191  The U.S. Company Du Pont De Nemours <DD>\\nhas ...  4655.xml\n",
       "192  A total of 1.886 mln hectares was sown\\nto whe...  4671.xml\n",
       "193  A mix of electoral boldness and fiscal\\ncautio...  4674.xml\n",
       "194  CBS Inc <CBS.N> is issuing 400 mln dlrs\\nof co...  4704.xml\n",
       "195  Portugal's consumer prices rose one pct\\nlast ...  4741.xml\n",
       "196  Shr 61 cts vs 42 cts\\n    Net 6,247,000 vs 5,5...  4819.xml\n",
       "197  Markus Lusser, vice-president of the\\nSwiss Na...  4872.xml\n",
       "198  U.S. February reports reflecting slim\\ngains i...  4944.xml\n",
       "199                                                     4960.xml\n",
       "\n",
       "[200 rows x 2 columns]>"
      ]
     },
     "execution_count": 373,
     "metadata": {},
     "output_type": "execute_result"
    }
   ],
   "source": [
    "df_xml.describe"
   ]
  },
  {
   "cell_type": "markdown",
   "metadata": {},
   "source": [
    "### Data cleaning"
   ]
  },
  {
   "cell_type": "code",
   "execution_count": 10,
   "metadata": {},
   "outputs": [],
   "source": [
    "special_characters = re.compile(\"[^A-Za-z0-9 ]\")\n",
    "def clean_sentence(data):\n",
    "    data = data.lower().replace(\"<i>\", \"\")\n",
    "    data = data.replace(\"    \", \" \")\n",
    "    data = data.replace(\"\\n\", \". \")\n",
    "    data = data.replace(\"reuter\", \"\")\n",
    "    data = re.sub(\"   \", \" \", data)\n",
    "    return re.sub(special_characters, \"\", data.lower())"
   ]
  },
  {
   "cell_type": "code",
   "execution_count": 11,
   "metadata": {},
   "outputs": [],
   "source": [
    "def format_train_news(train_news, max_seq_len, word_list):\n",
    "    '''\n",
    "    Converting news into array of index corresponding to its position in the vocabulary\n",
    "    \n",
    "    Arguments:\n",
    "        train_news: news data\n",
    "        max_seq_len: maximal sequence length\n",
    "        word_list: words array containing vocabularies from the learned embedding\n",
    "    \n",
    "    Return:\n",
    "        news array with the same max_seq_len containing index for each word\n",
    "    '''\n",
    "    count = 0\n",
    "    news_clean = clean_sentence(train_news)\n",
    "    news_split = news_clean.split()\n",
    "    if len(news_split) > max_seq_len:\n",
    "        news_max_len = news_split[-max_seq_len:]\n",
    "    else: \n",
    "        news_max_len = news_split\n",
    "    len_rev = len(news_max_len)\n",
    "    temp_nws = np.zeros(len_rev, dtype = 'int32')\n",
    "    for word in news_max_len:\n",
    "        try:\n",
    "            temp_nws[count] = word_list.index(word)\n",
    "        except ValueError:\n",
    "            temp_nws[count] = word_list.index('unk') # if not found, values will be zero\n",
    "        count += 1\n",
    "    return temp_nws"
   ]
  },
  {
   "cell_type": "code",
   "execution_count": 12,
   "metadata": {},
   "outputs": [],
   "source": [
    "load_word_lst = np.load('word_lst_gensim_w2v.npy').tolist()\n",
    "load_word_vec = np.load('word_vec_gensim_w2v.npy')"
   ]
  },
  {
   "cell_type": "code",
   "execution_count": 13,
   "metadata": {},
   "outputs": [
    {
     "name": "stdout",
     "output_type": "stream",
     "text": [
      "Finish cleaning train data.\n"
     ]
    }
   ],
   "source": [
    "train_clean = []\n",
    "length = []\n",
    "for news in train_new.content:\n",
    "    s = clean_sentence(news)\n",
    "    train_clean.append(s)\n",
    "    length.append(len(s.split()))\n",
    "print(\"Finish cleaning train data.\")"
   ]
  },
  {
   "cell_type": "code",
   "execution_count": 422,
   "metadata": {
    "scrolled": true
   },
   "outputs": [
    {
     "data": {
      "text/plain": [
       "'argentine grain board figures show crop registrations of grains oilseeds and their products to february 11 in thousands of tonnes showing those for future shipments month 198687 total and 198586 total to february 12 1986 in brackets  bread wheat prev 16558 feb 8720 march 1646 total 26924 41610  maize mar 480 total 480 nil  sorghum nil nil  oilseed export registrations were  sunflowerseed total 150 79  soybean may 200 total 200 nil  the board also detailed export registrations for subproducts as follows  subproducts  wheat prev 399 feb 487 march 132 apr 100 total 1118 827   linseed prev 348 feb 329 mar 68 apr 63 total 808 874  soybean prev 1009 feb 451 mar nil apr nil may 200 total 1661 2185  sunflowerseed prev 486 feb 615 mar 251 apr 145 total 1498 1453  vegetable oil registrations were    sunoil prev 374 feb 1073 mar 245 apr 32 may nil jun 100 total 1824 1176    linoil prev 159 feb 236 mar 204 apr 20 total 618 761     soybean oil prev 37 feb 211 mar nil apr 20 may 90 jun 130 jul 70 total 558 337    '"
      ]
     },
     "execution_count": 422,
     "metadata": {},
     "output_type": "execute_result"
    }
   ],
   "source": [
    "train_clean[5]"
   ]
  },
  {
   "cell_type": "markdown",
   "metadata": {},
   "source": [
    "#### Average number of words per article"
   ]
  },
  {
   "cell_type": "code",
   "execution_count": 60,
   "metadata": {},
   "outputs": [
    {
     "name": "stdout",
     "output_type": "stream",
     "text": [
      "Average number of words per review: 130.840 \n",
      "\n"
     ]
    },
    {
     "data": {
      "image/png": "[encoded data removed]",
      "text/plain": [
       "<Figure size 432x288 with 1 Axes>"
      ]
     },
     "metadata": {
      "needs_background": "light"
     },
     "output_type": "display_data"
    }
   ],
   "source": [
    "print(\"Average number of words per review: {:0.3f} \\n\".format(np.mean(length)))\n",
    "\n",
    "plt.hist(length, 50, color='green', ec=\"darkgreen\")\n",
    "plt.xlabel('Sequence Length')\n",
    "plt.ylabel('Frequency')\n",
    "plt.axis([0, 500, 0, 750])\n",
    "plt.show()"
   ]
  },
  {
   "cell_type": "code",
   "execution_count": 20,
   "metadata": {},
   "outputs": [
    {
     "name": "stdout",
     "output_type": "stream",
     "text": [
      "Processing is done\n"
     ]
    }
   ],
   "source": [
    "max_length = 200\n",
    "train_seq = []\n",
    "for news in train_new.content:\n",
    "    f = format_train_news(train_news = news, \n",
    "                            max_seq_len = max_length, \n",
    "                            word_list = load_word_lst)\n",
    "    train_seq.append(f)\n",
    "print(\"Processing is done\")"
   ]
  },
  {
   "cell_type": "code",
   "execution_count": 21,
   "metadata": {},
   "outputs": [
    {
     "name": "stdout",
     "output_type": "stream",
     "text": [
      "Processing is done\n"
     ]
    }
   ],
   "source": [
    "test_seq = []\n",
    "for news in df_xml.content:\n",
    "    f = format_train_news(train_news = news, \n",
    "                            max_seq_len = max_length, \n",
    "                            word_list = load_word_lst)\n",
    "    test_seq.append(f)\n",
    "print(\"Processing is done\")"
   ]
  },
  {
   "cell_type": "markdown",
   "metadata": {},
   "source": [
    "### Data padding"
   ]
  },
  {
   "cell_type": "code",
   "execution_count": 22,
   "metadata": {},
   "outputs": [
    {
     "name": "stdout",
     "output_type": "stream",
     "text": [
      "Length of data at index 10: 200\n",
      "\n",
      "Total number of news items: 4402\n",
      "\n",
      "Data at index 10: \n",
      "[   0    0    0    0    0    0    0    0    0    0    0    0    0    0\n",
      "    0    0    0    0    0    0    0    0    0    0    0    0    0    0\n",
      "    0    0    0    0    0    0    0    0    0    0    0    0    0    0\n",
      "    0    0    0    0    0    0    0    0    0    0    0    0    0    0\n",
      "    0    0    0    0    0    0    0    0    0    0    0    0    0    0\n",
      "    0    0    0    0    0    0    0    0    0    0    0    0    0    0\n",
      "    0    0    0    0    0    0    0    0    0    0    0    0    0    0\n",
      "    0    0    0    0    0    0    0    0    0    0    0    0    0    0\n",
      "    0    0    0    0    0    0    0    0    0    0    0    0    0    0\n",
      "    0    0    0    0    0    0    0    0    0    0    0    0    0    0\n",
      "    0    0    0    0    0    0    0    0    0    0   65  943   29   17\n",
      " 2518   11   41 7652   17 7652  323 7652    8   17 7652    8  789 7652\n",
      "    8   17 7652    8  264 7652    8   17 7652    8  177 1374  451   36\n",
      "  263   25  277   95  617  306   15  123 1413 1942    2 7652   11   46\n",
      "  115   29   89   65]\n"
     ]
    }
   ],
   "source": [
    "train_pad = pad_sequences(train_seq, maxlen = max_length, padding='pre')\n",
    "print(\"Length of data at index 10: {}\\n\".format(len(train_pad[10])))\n",
    "print(\"Total number of news items: {}\\n\".format(len(train_pad)))\n",
    "print(\"Data at index 10: \\n{}\".format(train_pad[10]))"
   ]
  },
  {
   "cell_type": "code",
   "execution_count": 23,
   "metadata": {},
   "outputs": [
    {
     "name": "stdout",
     "output_type": "stream",
     "text": [
      "Length of data at 9th position: 89\n",
      "\n",
      "Total number of news items: 200\n",
      "\n",
      "Data at 11st position: \n",
      "[   0    0    0    0    0    0    0    0    0    0    0    0    0    0\n",
      "    0    0    0    0    0    0    0    0    0    0    0    0    0    0\n",
      "    0    0    0    0    0    0    0    0    0    0    0    0    0    0\n",
      "    0    0    0    0    0    0    0    0    0    0    0    0    0    0\n",
      "    0    0    0    0    0    0    0    0    0    0    0    0    0    0\n",
      "    0    0    0    0    0    0    0    0    0    0    0    0    0    0\n",
      "    0    0    0    0    0    0    0    0    0    0    0    0    0    0\n",
      "    0    0    0    0    0    0    0    0    0    0    0    0    0    0\n",
      "    0    0    0    0    0    0    0    0    0    0    0    0    0    0\n",
      "    0    0    0 7652   48    5   10 2545    6  178  560  530    3 6955\n",
      "    6 1258    2   78 3810 7652 6329    2   16 7652  301  150 7652 7652\n",
      " 7652  178 7652  135    1 7652    7 1466 2827   13 1189  383 7652    5\n",
      "    1   34 1655  560    9    1 1053 1655    2 1282   52  989   10    6\n",
      " 1357 7652  530  124 7652  102 7652   48    4   74 5770 5729 7652 6179\n",
      "   21 7652 7652 1068]\n"
     ]
    }
   ],
   "source": [
    "test_pad = pad_sequences(test_seq, maxlen = max_length, padding='pre')\n",
    "print(\"Length of data at 9th position: {}\\n\".format(len(test_seq[9])))\n",
    "print(\"Total number of news items: {}\\n\".format(len(test_pad)))\n",
    "print(\"Data at 11st position: \\n{}\".format(test_pad[10]))"
   ]
  },
  {
   "cell_type": "code",
   "execution_count": 24,
   "metadata": {},
   "outputs": [
    {
     "name": "stdout",
     "output_type": "stream",
     "text": [
      "Total number of words in our vocabulary: 7653\n"
     ]
    }
   ],
   "source": [
    "print(\"Total number of words in our vocabulary: {}\".format(len(load_word_lst)))"
   ]
  },
  {
   "cell_type": "code",
   "execution_count": 25,
   "metadata": {},
   "outputs": [
    {
     "name": "stdout",
     "output_type": "stream",
     "text": [
      "['shr', '34', 'cts', 'vs', '119', 'dlrs', 'net', '807000', 'vs', '2858000', 'assets', '5102', 'mln', 'vs', '4797', 'mln', 'deposits', '4723', 'mln', 'vs', '4403', 'mln', 'loans', '2992', 'mln', 'vs', '3272', 'mln', 'note', '4th', 'qtr', 'not', 'available', 'year', 'includes', '1985', 'extraordinary', 'gain', 'from', 'tax', 'carry', 'forward', 'of', '132000', 'dlrs', 'or', 'five', 'cts', 'per', 'shr']\n"
     ]
    }
   ],
   "source": [
    "print(train_clean[10].split())"
   ]
  },
  {
   "cell_type": "code",
   "execution_count": 26,
   "metadata": {},
   "outputs": [
    {
     "name": "stdout",
     "output_type": "stream",
     "text": [
      "Index of word 'shr':       65\n",
      "\n",
      "Index of word '34':        943\n",
      "\n",
      "Index of word 'cts':       29\n",
      "\n"
     ]
    }
   ],
   "source": [
    "print(\"Index of word 'shr':       {}\\n\".format(load_word_lst.index('shr')))\n",
    "print(\"Index of word '34':        {}\\n\".format(load_word_lst.index('34')))\n",
    "print(\"Index of word 'cts':       {}\\n\".format(load_word_lst.index('cts')))"
   ]
  },
  {
   "cell_type": "markdown",
   "metadata": {},
   "source": [
    "# Training\n",
    "\n",
    "### Splitting data"
   ]
  },
  {
   "cell_type": "code",
   "execution_count": 27,
   "metadata": {},
   "outputs": [
    {
     "name": "stdout",
     "output_type": "stream",
     "text": [
      "Length of x_train: (3521, 200)\n",
      "Length of y_train: (3521,) \n",
      "\n",
      "Shape of x_valid: (881, 200)\n",
      "Shape of y_valid: (881,)\n"
     ]
    }
   ],
   "source": [
    "x_train, x_valid, y_train, y_valid = train_test_split(train_pad, \n",
    "                                                    train_new.label, \n",
    "                                                    test_size = 0.2, \n",
    "                                                    random_state = 123)\n",
    "\n",
    "print(\"Length of x_train: \"+ str(x_train.shape))\n",
    "print(\"Length of y_train: \"+ str(y_train.shape) +\" \\n\")\n",
    "print(\"Shape of x_valid: \"+ str(x_valid.shape))\n",
    "print(\"Shape of y_valid: \"+ str(y_valid.shape))"
   ]
  },
  {
   "cell_type": "code",
   "execution_count": 29,
   "metadata": {},
   "outputs": [
    {
     "data": {
      "text/plain": [
       "(2780, 698)"
      ]
     },
     "execution_count": 29,
     "metadata": {},
     "output_type": "execute_result"
    }
   ],
   "source": [
    "y_train[y_train==0].count(),y_valid[y_valid==0].count()"
   ]
  },
  {
   "cell_type": "code",
   "execution_count": 30,
   "metadata": {},
   "outputs": [
    {
     "data": {
      "text/plain": [
       "(741, 183)"
      ]
     },
     "execution_count": 30,
     "metadata": {},
     "output_type": "execute_result"
    }
   ],
   "source": [
    "y_train[y_train==1].count(),y_valid[y_valid==1].count()"
   ]
  },
  {
   "cell_type": "code",
   "execution_count": 31,
   "metadata": {},
   "outputs": [
    {
     "data": {
      "text/plain": [
       "(3521, (881,))"
      ]
     },
     "execution_count": 31,
     "metadata": {},
     "output_type": "execute_result"
    }
   ],
   "source": [
    "y_train.shape[0],y_valid.shape"
   ]
  },
  {
   "cell_type": "code",
   "execution_count": 32,
   "metadata": {},
   "outputs": [
    {
     "data": {
      "text/plain": [
       "(7653,)"
      ]
     },
     "execution_count": 32,
     "metadata": {},
     "output_type": "execute_result"
    }
   ],
   "source": [
    "load_word_vec.shape[0],"
   ]
  },
  {
   "cell_type": "markdown",
   "metadata": {},
   "source": [
    "### Modelling"
   ]
  },
  {
   "cell_type": "code",
   "execution_count": 167,
   "metadata": {},
   "outputs": [],
   "source": [
    "# Ref [1,2]\n",
    "model = Sequential()\n",
    "model.add(Embedding(input_dim=load_word_vec.shape[0],\n",
    "                    output_dim=load_word_vec.shape[1], \n",
    "                    weights=[load_word_vec],\n",
    "                    input_length=max_length,\n",
    "                    trainable=False))\n",
    "\n",
    "i = Input(shape=(max_length,), dtype='int32', name='main_input')\n",
    "x = embedding_layer(i)\n",
    "x = Flatten()(x)\n",
    "o = Dense(1, activation='sigmoid')(x)\n",
    "model = Model(inputs=i, outputs=o)"
   ]
  },
  {
   "cell_type": "code",
   "execution_count": 423,
   "metadata": {},
   "outputs": [
    {
     "name": "stdout",
     "output_type": "stream",
     "text": [
      "_________________________________________________________________\n",
      "Layer (type)                 Output Shape              Param #   \n",
      "=================================================================\n",
      "main_input (InputLayer)      (None, 200)               0         \n",
      "_________________________________________________________________\n",
      "embedding_3 (Embedding)      (None, 200, 100)          765300    \n",
      "_________________________________________________________________\n",
      "flatten_6 (Flatten)          (None, 20000)             0         \n",
      "_________________________________________________________________\n",
      "dense_7 (Dense)              (None, 1)                 20001     \n",
      "=================================================================\n",
      "Total params: 785,301\n",
      "Trainable params: 20,001\n",
      "Non-trainable params: 765,300\n",
      "_________________________________________________________________\n"
     ]
    }
   ],
   "source": [
    "model.summary()"
   ]
  },
  {
   "cell_type": "markdown",
   "metadata": {},
   "source": [
    "### Training Model"
   ]
  },
  {
   "cell_type": "code",
   "execution_count": 294,
   "metadata": {},
   "outputs": [],
   "source": [
    "saved_mode = \"./model/embed.h5\"\n",
    "batch_size = 64\n",
    "num_epochs = 30"
   ]
  },
  {
   "cell_type": "markdown",
   "metadata": {},
   "source": [
    "We use early stopping by setting `patience = 2` to prevent over-fitting:"
   ]
  },
  {
   "cell_type": "code",
   "execution_count": 295,
   "metadata": {},
   "outputs": [
    {
     "name": "stdout",
     "output_type": "stream",
     "text": [
      "Train on 3521 samples, validate on 881 samples\n",
      "Epoch 1/30\n",
      "3521/3521 [==============================] - 2s 535us/step - loss: 0.0045 - acc: 0.9997 - val_loss: 0.6894 - val_acc: 0.9376\n",
      "Epoch 2/30\n",
      "3521/3521 [==============================] - 0s 104us/step - loss: 0.0045 - acc: 0.9997 - val_loss: 0.6957 - val_acc: 0.9353\n",
      "Epoch 3/30\n",
      "3521/3521 [==============================] - 0s 95us/step - loss: 0.0045 - acc: 0.9997 - val_loss: 0.6965 - val_acc: 0.9364\n"
     ]
    }
   ],
   "source": [
    "callbacks_list = [keras.callbacks.EarlyStopping(monitor='acc', patience=2),\n",
    "                  keras.callbacks.ModelCheckpoint(filepath=saved_mode, monitor='val_loss',save_best_only=True)]\n",
    "\n",
    "model.compile(optimizer='adam', loss='binary_crossentropy', metrics=['acc'])\n",
    "\n",
    "built_model = model.fit(x_train, y_train, \n",
    "                        epochs=num_epochs, \n",
    "                        verbose=1, \n",
    "                        batch_size=batch_size,\n",
    "                        validation_data=(x_valid, y_valid),\n",
    "                        callbacks = callbacks_list)"
   ]
  },
  {
   "cell_type": "markdown",
   "metadata": {},
   "source": [
    "After `3` epochs the training stopped and we got accuracy on validation set at `93.64%`."
   ]
  },
  {
   "cell_type": "markdown",
   "metadata": {},
   "source": [
    "### Predict on validation data\n",
    "\n",
    "Now, let's use the trained model on our validation set. First we have to load our saved model and call `predict`:"
   ]
  },
  {
   "cell_type": "code",
   "execution_count": 296,
   "metadata": {},
   "outputs": [],
   "source": [
    "saved_model = load_model(saved_mode)\n",
    "y_pred = saved_model.predict(x_valid)\n",
    "y_pred = (y_pred > 0.5)"
   ]
  },
  {
   "cell_type": "code",
   "execution_count": 297,
   "metadata": {},
   "outputs": [
    {
     "name": "stdout",
     "output_type": "stream",
     "text": [
      "_________________________________________________________________\n",
      "Layer (type)                 Output Shape              Param #   \n",
      "=================================================================\n",
      "main_input (InputLayer)      (None, 200)               0         \n",
      "_________________________________________________________________\n",
      "embedding_3 (Embedding)      (None, 200, 100)          765300    \n",
      "_________________________________________________________________\n",
      "flatten_6 (Flatten)          (None, 20000)             0         \n",
      "_________________________________________________________________\n",
      "dense_7 (Dense)              (None, 1)                 20001     \n",
      "=================================================================\n",
      "Total params: 785,301\n",
      "Trainable params: 20,001\n",
      "Non-trainable params: 765,300\n",
      "_________________________________________________________________\n"
     ]
    }
   ],
   "source": [
    "saved_model.summary()"
   ]
  },
  {
   "cell_type": "markdown",
   "metadata": {},
   "source": [
    "Define a function to display confusion matrix on validation data:"
   ]
  },
  {
   "cell_type": "code",
   "execution_count": 299,
   "metadata": {},
   "outputs": [
    {
     "data": {
      "image/png": "[encoded data removed]",
      "text/plain": [
       "<Figure size 360x288 with 2 Axes>"
      ]
     },
     "metadata": {
      "needs_background": "light"
     },
     "output_type": "display_data"
    }
   ],
   "source": [
    "def print_cmx(y_true, y_pred):\n",
    "    lbl = sorted(list(set(y_true)))\n",
    "    cm = confusion_matrix(y_true,y_pred)\n",
    "    df = pd.DataFrame(cm, index=lbl, columns=lbl)\n",
    "    plt.figure(figsize = (5,4))\n",
    "    sn.heatmap(df, annot=True,cmap='Blues', fmt='g')\n",
    "    plt.show()\n",
    "print_cmx(y_valid,y_pred)"
   ]
  },
  {
   "cell_type": "markdown",
   "metadata": {},
   "source": [
    "# Predict on test data"
   ]
  },
  {
   "cell_type": "code",
   "execution_count": 377,
   "metadata": {},
   "outputs": [],
   "source": [
    "y_pred_test = saved_model.predict(test_pad)\n",
    "y_pred_test = (y_pred_test > 0.5)"
   ]
  },
  {
   "cell_type": "code",
   "execution_count": 409,
   "metadata": {},
   "outputs": [
    {
     "data": {
      "text/plain": [
       "['689.xml',\n",
       " '934.xml',\n",
       " '1247.xml',\n",
       " '1548.xml',\n",
       " '1717.xml',\n",
       " '2103.xml',\n",
       " '2169.xml',\n",
       " '2178.xml',\n",
       " '2244.xml',\n",
       " '2302.xml',\n",
       " '2442.xml',\n",
       " '2621.xml',\n",
       " '2698.xml',\n",
       " '3305.xml',\n",
       " '3678.xml',\n",
       " '3766.xml',\n",
       " '4565.xml',\n",
       " '4960.xml']"
      ]
     },
     "execution_count": 409,
     "metadata": {},
     "output_type": "execute_result"
    }
   ],
   "source": [
    "empty_content_lst"
   ]
  },
  {
   "cell_type": "markdown",
   "metadata": {},
   "source": [
    "Get a list of label `1` items in our prediction test results and check them against our empty content list to make sure that non of the empty content items will be classified as company related earnings (label `1`)."
   ]
  },
  {
   "cell_type": "code",
   "execution_count": 306,
   "metadata": {},
   "outputs": [
    {
     "data": {
      "text/plain": [
       "array([  3,   7,  14,  16,  18,  22,  39,  40,  41,  43,  51,  55,  58,\n",
       "        60,  61,  64,  65,  66,  68,  69,  71,  74,  77,  85,  88,  94,\n",
       "       103, 104, 115, 117, 121, 136, 148, 150, 153, 157, 160, 165, 166,\n",
       "       167, 173, 178, 179, 188, 196])"
      ]
     },
     "execution_count": 306,
     "metadata": {},
     "output_type": "execute_result"
    }
   ],
   "source": [
    "np.where(y_pred_test)[0]"
   ]
  },
  {
   "cell_type": "code",
   "execution_count": 413,
   "metadata": {
    "scrolled": true
   },
   "outputs": [
    {
     "name": "stdout",
     "output_type": "stream",
     "text": [
      "66.xml\n",
      "165.xml\n",
      "410.xml\n",
      "484.xml\n",
      "573.xml\n",
      "640.xml\n",
      "1090.xml\n",
      "1124.xml\n",
      "1135.xml\n",
      "1157.xml\n",
      "1320.xml\n",
      "1446.xml\n",
      "1546.xml\n",
      "1566.xml\n",
      "1586.xml\n",
      "1643.xml\n",
      "1645.xml\n",
      "1655.xml\n",
      "1706.xml\n",
      "1716.xml\n",
      "1722.xml\n",
      "1763.xml\n",
      "1849.xml\n",
      "2092.xml\n",
      "2137.xml\n",
      "2212.xml\n",
      "2396.xml\n",
      "2398.xml\n",
      "2659.xml\n",
      "2691.xml\n",
      "2771.xml\n",
      "3258.xml\n",
      "3637.xml\n",
      "3669.xml\n",
      "3680.xml\n",
      "3713.xml\n",
      "3772.xml\n",
      "3875.xml\n",
      "3894.xml\n",
      "3971.xml\n",
      "4169.xml\n",
      "4292.xml\n",
      "4347.xml\n",
      "4583.xml\n",
      "4819.xml\n"
     ]
    }
   ],
   "source": [
    "for i in np.where(y_pred_test)[0]:\n",
    "    file = df_xml.file.values[i]\n",
    "    if file in empty_content_lst:\n",
    "        print(\"In empty list \",file)\n",
    "    else: print(file)"
   ]
  },
  {
   "cell_type": "markdown",
   "metadata": {},
   "source": [
    "After checking, we can see that none of the empty content items have been classified with label `1`.\n",
    "Below is the count for each label:\n",
    "- Label `1`: 45 items\n",
    "- Label `0`: 155 items"
   ]
  },
  {
   "cell_type": "code",
   "execution_count": 416,
   "metadata": {},
   "outputs": [
    {
     "data": {
      "text/plain": [
       "(45, 155)"
      ]
     },
     "execution_count": 416,
     "metadata": {},
     "output_type": "execute_result"
    }
   ],
   "source": [
    "len(y_pred_test[y_pred_test==True]),len(y_pred_test[y_pred_test==False])"
   ]
  },
  {
   "cell_type": "markdown",
   "metadata": {},
   "source": [
    "#### Write test prediction to file"
   ]
  },
  {
   "cell_type": "code",
   "execution_count": 339,
   "metadata": {
    "scrolled": true
   },
   "outputs": [],
   "source": [
    "test_result_df = df_test\n",
    "for index, value in enumerate(y_pred_test):\n",
    "    if value == True:\n",
    "        test_result_df.iloc[[index],2:] = 1\n",
    "    else: test_result_df.iloc[[index],2:] = 0"
   ]
  },
  {
   "cell_type": "code",
   "execution_count": 340,
   "metadata": {},
   "outputs": [
    {
     "data": {
      "text/html": [
       "<div>\n",
       "<style scoped>\n",
       "    .dataframe tbody tr th:only-of-type {\n",
       "        vertical-align: middle;\n",
       "    }\n",
       "\n",
       "    .dataframe tbody tr th {\n",
       "        vertical-align: top;\n",
       "    }\n",
       "\n",
       "    .dataframe thead th {\n",
       "        text-align: right;\n",
       "    }\n",
       "</style>\n",
       "<table border=\"1\" class=\"dataframe\">\n",
       "  <thead>\n",
       "    <tr style=\"text-align: right;\">\n",
       "      <th></th>\n",
       "      <th>id</th>\n",
       "      <th>file</th>\n",
       "      <th>earnings: 0 no/ 1 yes</th>\n",
       "    </tr>\n",
       "  </thead>\n",
       "  <tbody>\n",
       "    <tr>\n",
       "      <th>0</th>\n",
       "      <td>20</td>\n",
       "      <td>20.xml</td>\n",
       "      <td>0</td>\n",
       "    </tr>\n",
       "    <tr>\n",
       "      <th>1</th>\n",
       "      <td>47</td>\n",
       "      <td>47.xml</td>\n",
       "      <td>0</td>\n",
       "    </tr>\n",
       "    <tr>\n",
       "      <th>2</th>\n",
       "      <td>57</td>\n",
       "      <td>57.xml</td>\n",
       "      <td>0</td>\n",
       "    </tr>\n",
       "    <tr>\n",
       "      <th>3</th>\n",
       "      <td>66</td>\n",
       "      <td>66.xml</td>\n",
       "      <td>1</td>\n",
       "    </tr>\n",
       "    <tr>\n",
       "      <th>4</th>\n",
       "      <td>88</td>\n",
       "      <td>88.xml</td>\n",
       "      <td>0</td>\n",
       "    </tr>\n",
       "  </tbody>\n",
       "</table>\n",
       "</div>"
      ],
      "text/plain": [
       "   id    file  earnings: 0 no/ 1 yes\n",
       "0  20  20.xml                      0\n",
       "1  47  47.xml                      0\n",
       "2  57  57.xml                      0\n",
       "3  66  66.xml                      1\n",
       "4  88  88.xml                      0"
      ]
     },
     "execution_count": 340,
     "metadata": {},
     "output_type": "execute_result"
    }
   ],
   "source": [
    "test_result_df.head()"
   ]
  },
  {
   "cell_type": "code",
   "execution_count": 343,
   "metadata": {},
   "outputs": [],
   "source": [
    "test_result_df.to_csv('word2vec_test_results.csv',index=False)"
   ]
  },
  {
   "cell_type": "markdown",
   "metadata": {},
   "source": [
    "# References"
   ]
  },
  {
   "cell_type": "markdown",
   "metadata": {},
   "source": [
    "1. DOAN Tu My, Learning Word-embeddings, Year-end project, https://github.com/doantumy/Word-Embeddings\n",
    "- Jovian Lin, Embeddings in Keras: Train vs. Pretrained, https://jovianlin.io/embeddings-in-keras/\n",
    "- Andreas Mueller, WordCloud package, https://github.com/amueller/word_cloud"
   ]
  }
 ],
 "metadata": {
  "kernelspec": {
   "display_name": "Python 3",
   "language": "python",
   "name": "python3"
  },
  "language_info": {
   "codemirror_mode": {
    "name": "ipython",
    "version": 3
   },
   "file_extension": ".py",
   "mimetype": "text/x-python",
   "name": "python",
   "nbconvert_exporter": "python",
   "pygments_lexer": "ipython3",
   "version": "3.6.6"
  }
 },
 "nbformat": 4,
 "nbformat_minor": 2
}
