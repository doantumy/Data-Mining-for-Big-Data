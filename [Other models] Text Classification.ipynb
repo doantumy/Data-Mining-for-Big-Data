{
 "cells": [
  {
   "cell_type": "markdown",
   "metadata": {},
   "source": [
    "# Text Classification with `AdaBoost, LinearSVC` & `LogisticRegression`\n",
    " \n",
    "#### By: Tu My DOAN & Sali Dauda MOHAMNMED"
   ]
  },
  {
   "cell_type": "markdown",
   "metadata": {},
   "source": [
    "## Libraries"
   ]
  },
  {
   "cell_type": "code",
   "execution_count": 10,
   "metadata": {},
   "outputs": [],
   "source": [
    "import pandas as pd\n",
    "import numpy as np\n",
    "import seaborn as sn\n",
    "import matplotlib.pyplot as plt\n",
    "from xml.dom import minidom\n",
    "from sklearn.ensemble import AdaBoostClassifier\n",
    "from sklearn.linear_model import LogisticRegression\n",
    "from sklearn.svm import LinearSVC\n",
    "from sklearn.model_selection import train_test_split\n",
    "from sklearn.metrics import confusion_matrix\n",
    "from sklearn.metrics import accuracy_score\n",
    "from sklearn.feature_extraction.text import TfidfVectorizer\n",
    "from sklearn.feature_extraction.text import CountVectorizer\n",
    "from sklearn.feature_extraction.text import TfidfTransformer\n",
    "from sklearn.pipeline import Pipeline"
   ]
  },
  {
   "cell_type": "markdown",
   "metadata": {},
   "source": [
    "### Train Data Loading"
   ]
  },
  {
   "cell_type": "code",
   "execution_count": 2,
   "metadata": {},
   "outputs": [
    {
     "data": {
      "text/html": [
       "<div>\n",
       "<style scoped>\n",
       "    .dataframe tbody tr th:only-of-type {\n",
       "        vertical-align: middle;\n",
       "    }\n",
       "\n",
       "    .dataframe tbody tr th {\n",
       "        vertical-align: top;\n",
       "    }\n",
       "\n",
       "    .dataframe thead th {\n",
       "        text-align: right;\n",
       "    }\n",
       "</style>\n",
       "<table border=\"1\" class=\"dataframe\">\n",
       "  <thead>\n",
       "    <tr style=\"text-align: right;\">\n",
       "      <th></th>\n",
       "      <th>id</th>\n",
       "      <th>file</th>\n",
       "      <th>label</th>\n",
       "      <th>content</th>\n",
       "    </tr>\n",
       "  </thead>\n",
       "  <tbody>\n",
       "    <tr>\n",
       "      <th>0</th>\n",
       "      <td>1</td>\n",
       "      <td>1.xml</td>\n",
       "      <td>0</td>\n",
       "      <td>Showers continued throughout the week in\\nthe ...</td>\n",
       "    </tr>\n",
       "    <tr>\n",
       "      <th>1</th>\n",
       "      <td>2</td>\n",
       "      <td>2.xml</td>\n",
       "      <td>0</td>\n",
       "      <td>Standard Oil Co and BP North America\\nInc said...</td>\n",
       "    </tr>\n",
       "    <tr>\n",
       "      <th>2</th>\n",
       "      <td>3</td>\n",
       "      <td>3.xml</td>\n",
       "      <td>0</td>\n",
       "      <td>Texas Commerce Bancshares Inc's Texas\\nCommerc...</td>\n",
       "    </tr>\n",
       "    <tr>\n",
       "      <th>3</th>\n",
       "      <td>4</td>\n",
       "      <td>4.xml</td>\n",
       "      <td>0</td>\n",
       "      <td>BankAmerica Corp is not under\\npressure to act...</td>\n",
       "    </tr>\n",
       "    <tr>\n",
       "      <th>4</th>\n",
       "      <td>5</td>\n",
       "      <td>5.xml</td>\n",
       "      <td>0</td>\n",
       "      <td>The U.S. Agriculture Department\\nreported the ...</td>\n",
       "    </tr>\n",
       "  </tbody>\n",
       "</table>\n",
       "</div>"
      ],
      "text/plain": [
       "   id   file  label                                            content\n",
       "0   1  1.xml      0  Showers continued throughout the week in\\nthe ...\n",
       "1   2  2.xml      0  Standard Oil Co and BP North America\\nInc said...\n",
       "2   3  3.xml      0  Texas Commerce Bancshares Inc's Texas\\nCommerc...\n",
       "3   4  4.xml      0  BankAmerica Corp is not under\\npressure to act...\n",
       "4   5  5.xml      0  The U.S. Agriculture Department\\nreported the ..."
      ]
     },
     "execution_count": 2,
     "metadata": {},
     "output_type": "execute_result"
    }
   ],
   "source": [
    "train = pd.read_csv('news_datafile.csv')\n",
    "train_new = train.dropna()\n",
    "train_new.head()"
   ]
  },
  {
   "cell_type": "markdown",
   "metadata": {},
   "source": [
    "### Test Data Loading"
   ]
  },
  {
   "cell_type": "code",
   "execution_count": 3,
   "metadata": {},
   "outputs": [
    {
     "data": {
      "text/html": [
       "<div>\n",
       "<style scoped>\n",
       "    .dataframe tbody tr th:only-of-type {\n",
       "        vertical-align: middle;\n",
       "    }\n",
       "\n",
       "    .dataframe tbody tr th {\n",
       "        vertical-align: top;\n",
       "    }\n",
       "\n",
       "    .dataframe thead th {\n",
       "        text-align: right;\n",
       "    }\n",
       "</style>\n",
       "<table border=\"1\" class=\"dataframe\">\n",
       "  <thead>\n",
       "    <tr style=\"text-align: right;\">\n",
       "      <th></th>\n",
       "      <th>content</th>\n",
       "      <th>file</th>\n",
       "    </tr>\n",
       "  </thead>\n",
       "  <tbody>\n",
       "    <tr>\n",
       "      <th>0</th>\n",
       "      <td>Legislation to require disclosure of\\ncredit c...</td>\n",
       "      <td>20.xml</td>\n",
       "    </tr>\n",
       "    <tr>\n",
       "      <th>1</th>\n",
       "      <td>inflation\\nplan, initially hailed at home and ...</td>\n",
       "      <td>47.xml</td>\n",
       "    </tr>\n",
       "    <tr>\n",
       "      <th>2</th>\n",
       "      <td>The Commodity Credit Corporation (CCC)\\nannoun...</td>\n",
       "      <td>57.xml</td>\n",
       "    </tr>\n",
       "    <tr>\n",
       "      <th>3</th>\n",
       "      <td>Shr 27 cts vs 29 cts\\n    Net 13,555,000 vs 14...</td>\n",
       "      <td>66.xml</td>\n",
       "    </tr>\n",
       "    <tr>\n",
       "      <th>4</th>\n",
       "      <td>Sorg Inc said a group composed of\\none-third o...</td>\n",
       "      <td>88.xml</td>\n",
       "    </tr>\n",
       "  </tbody>\n",
       "</table>\n",
       "</div>"
      ],
      "text/plain": [
       "                                             content    file\n",
       "0  Legislation to require disclosure of\\ncredit c...  20.xml\n",
       "1  inflation\\nplan, initially hailed at home and ...  47.xml\n",
       "2  The Commodity Credit Corporation (CCC)\\nannoun...  57.xml\n",
       "3  Shr 27 cts vs 29 cts\\n    Net 13,555,000 vs 14...  66.xml\n",
       "4  Sorg Inc said a group composed of\\none-third o...  88.xml"
      ]
     },
     "execution_count": 3,
     "metadata": {},
     "output_type": "execute_result"
    }
   ],
   "source": [
    "df_test = pd.read_csv(\"./dmdata/test.csv\")\n",
    "df_test.head()\n",
    "def read_xml(xml_list):\n",
    "    empty_content = []\n",
    "    df = pd.DataFrame(columns=['content','file'])\n",
    "    for file_name in xml_list:\n",
    "        mydoc = minidom.parse(\"./dmdata/\"+file_name)\n",
    "        items = mydoc.getElementsByTagName('BODY')\n",
    "        if items[0].firstChild != None:\n",
    "            content = items[0].firstChild.data\n",
    "            df = df.append({'content':content, 'file':file_name},ignore_index=True)\n",
    "        else: \n",
    "            empty_content.append(str(file_name))\n",
    "            df = df.append({'content':\"\", 'file':file_name},ignore_index=True)\n",
    "    return df, empty_content\n",
    "empty_content_lst = []\n",
    "df_xml, empty_content_lst = read_xml(df_test.file.values)\n",
    "df_xml.head()"
   ]
  },
  {
   "cell_type": "markdown",
   "metadata": {},
   "source": [
    "### Splitting data for training"
   ]
  },
  {
   "cell_type": "code",
   "execution_count": 4,
   "metadata": {},
   "outputs": [],
   "source": [
    "X_train, X_valid, y_train, y_valid = train_test_split(train_new.content, train_new.label, \n",
    "                                                      test_size=0.2, random_state=123)"
   ]
  },
  {
   "cell_type": "markdown",
   "metadata": {},
   "source": [
    "## Train model"
   ]
  },
  {
   "cell_type": "code",
   "execution_count": 12,
   "metadata": {},
   "outputs": [],
   "source": [
    "def print_cmx(y_true, y_pred):\n",
    "    lbl = sorted(list(set(y_true)))\n",
    "    cm = confusion_matrix(y_true,y_pred)\n",
    "    df = pd.DataFrame(cm, index=lbl, columns=lbl)\n",
    "    plt.figure(figsize = (5,4))\n",
    "    sn.heatmap(df, annot=True,cmap='Blues', fmt='g')\n",
    "    plt.show()"
   ]
  },
  {
   "cell_type": "code",
   "execution_count": 13,
   "metadata": {},
   "outputs": [],
   "source": [
    "# Ref: [1]\n",
    "def train_model(classifier, train_data, train_label, valid_data, valid_label):\n",
    "    text_clf = Pipeline([\n",
    "    ('vect', CountVectorizer(analyzer='word',stop_words='english', max_features=1000)),\n",
    "    ('tfidf', TfidfTransformer()),\n",
    "    ('clf', classifier),\n",
    "    ])\n",
    "    text_clf.fit(train_data, train_label)\n",
    "    predicted = text_clf.predict(valid_data)\n",
    "    print()\n",
    "    print(\"Accuracy: {0:.3f}%\\n\".format(accuracy_score(valid_label,predicted)*100))\n",
    "    print(\"Confusion matrix:\")\n",
    "    print_cmx(valid_label,predicted)\n",
    "    return text_clf"
   ]
  },
  {
   "cell_type": "markdown",
   "metadata": {},
   "source": [
    "### `LinearSVC`"
   ]
  },
  {
   "cell_type": "code",
   "execution_count": 14,
   "metadata": {},
   "outputs": [
    {
     "name": "stdout",
     "output_type": "stream",
     "text": [
      "\n",
      "Accuracy: 96.935%\n",
      "\n",
      "Confusion matrix:\n"
     ]
    },
    {
     "data": {
      "image/png": "[encoded data removed]",
      "text/plain": [
       "<Figure size 360x288 with 2 Axes>"
      ]
     },
     "metadata": {
      "needs_background": "light"
     },
     "output_type": "display_data"
    }
   ],
   "source": [
    "text_clf_svc = train_model(LinearSVC(random_state=123),X_train, y_train, X_valid, y_valid)"
   ]
  },
  {
   "cell_type": "markdown",
   "metadata": {},
   "source": [
    "### `AdaBoostClassifier`"
   ]
  },
  {
   "cell_type": "code",
   "execution_count": 15,
   "metadata": {},
   "outputs": [
    {
     "name": "stdout",
     "output_type": "stream",
     "text": [
      "\n",
      "Accuracy: 95.800%\n",
      "\n",
      "Confusion matrix:\n"
     ]
    },
    {
     "data": {
      "image/png": "[encoded data removed]",
      "text/plain": [
       "<Figure size 360x288 with 2 Axes>"
      ]
     },
     "metadata": {
      "needs_background": "light"
     },
     "output_type": "display_data"
    }
   ],
   "source": [
    "text_clf_ada = train_model(AdaBoostClassifier(n_estimators=30, random_state=123),X_train, y_train, X_valid, y_valid)"
   ]
  },
  {
   "cell_type": "markdown",
   "metadata": {},
   "source": [
    "### `LogisticRegression`"
   ]
  },
  {
   "cell_type": "code",
   "execution_count": 16,
   "metadata": {},
   "outputs": [
    {
     "name": "stdout",
     "output_type": "stream",
     "text": [
      "\n",
      "Accuracy: 96.595%\n",
      "\n",
      "Confusion matrix:\n"
     ]
    },
    {
     "data": {
      "image/png": "[encoded data removed]",
      "text/plain": [
       "<Figure size 360x288 with 2 Axes>"
      ]
     },
     "metadata": {
      "needs_background": "light"
     },
     "output_type": "display_data"
    }
   ],
   "source": [
    "text_clf_lr = train_model(LogisticRegression(solver='lbfgs', random_state=123),X_train, y_train, X_valid, y_valid)"
   ]
  },
  {
   "cell_type": "markdown",
   "metadata": {},
   "source": [
    "## Predict on test data"
   ]
  },
  {
   "cell_type": "code",
   "execution_count": 17,
   "metadata": {},
   "outputs": [],
   "source": [
    "y_pred_test = text_clf_svc.predict(df_xml.content)"
   ]
  },
  {
   "cell_type": "markdown",
   "metadata": {},
   "source": [
    "Below is the count for each label:\n",
    "- Label `1`: 50 items\n",
    "- Label `0`: 150 items"
   ]
  },
  {
   "cell_type": "code",
   "execution_count": 18,
   "metadata": {},
   "outputs": [
    {
     "data": {
      "text/plain": [
       "(50, 150)"
      ]
     },
     "execution_count": 18,
     "metadata": {},
     "output_type": "execute_result"
    }
   ],
   "source": [
    "len(y_pred_test[y_pred_test==True]),len(y_pred_test[y_pred_test==False])"
   ]
  },
  {
   "cell_type": "markdown",
   "metadata": {},
   "source": [
    "### Write test prediction to file"
   ]
  },
  {
   "cell_type": "code",
   "execution_count": 19,
   "metadata": {},
   "outputs": [],
   "source": [
    "test_result_df = df_test\n",
    "for index, value in enumerate(y_pred_test):\n",
    "    if value == True:\n",
    "        test_result_df.iloc[[index],2:] = 1\n",
    "    else: test_result_df.iloc[[index],2:] = 0"
   ]
  },
  {
   "cell_type": "code",
   "execution_count": 20,
   "metadata": {},
   "outputs": [],
   "source": [
    "test_result_df.to_csv('svc_test_results.csv',index=False)"
   ]
  },
  {
   "cell_type": "markdown",
   "metadata": {},
   "source": [
    "# References"
   ]
  },
  {
   "cell_type": "markdown",
   "metadata": {},
   "source": [
    "1. Working with Text data from `sklearn` - https://scikit-learn.org/stable/tutorial/text_analytics/working_with_text_data.html"
   ]
  }
 ],
 "metadata": {
  "kernelspec": {
   "display_name": "Python 3",
   "language": "python",
   "name": "python3"
  },
  "language_info": {
   "codemirror_mode": {
    "name": "ipython",
    "version": 3
   },
   "file_extension": ".py",
   "mimetype": "text/x-python",
   "name": "python",
   "nbconvert_exporter": "python",
   "pygments_lexer": "ipython3",
   "version": "3.6.6"
  }
 },
 "nbformat": 4,
 "nbformat_minor": 2
}
